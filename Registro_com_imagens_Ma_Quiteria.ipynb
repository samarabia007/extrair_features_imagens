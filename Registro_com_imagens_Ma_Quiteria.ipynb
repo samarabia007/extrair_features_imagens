{
 "cells": [
  {
   "cell_type": "markdown",
   "metadata": {},
   "source": [
    "**Alinhamento de imagens, que foram obtidas por diferentes técnicas de imageamento, por pontos-chaves (ORB).**"
   ]
  },
  {
   "cell_type": "code",
   "execution_count": 1,
   "metadata": {},
   "outputs": [],
   "source": [
    "import cv2 as cv\n",
    "import matplotlib.pyplot as plt\n",
    "import numpy as np\n",
    "from PIL import Image\n",
    "\n",
    "# ler duas imagens\n",
    "img1 = cv.imread('uv20161004rosael-8_reduzida_para_257.jpg', cv.IMREAD_GRAYSCALE)\n",
    "img2 = cv.imread('quiteriaIR_reduzida_para_257.jpg', cv.IMREAD_GRAYSCALE)"
   ]
  },
  {
   "cell_type": "markdown",
   "metadata": {},
   "source": [
    "![imagem1](C:\\Users\\Samara\\Documents\\Python Scripts\\new_codes\\imagens_maria_quiteria\\uv20161004rosael-8_reduzida_para_257.jpg)\n",
    "![imagem2](C:\\Users\\Samara\\Documents\\Python Scripts\\new_codes\\imagens_que_deram_origem_a_array_selecionado_para_autoencoder\\quiteriaIR_reduzida_para_257.jpg)"
   ]
  },
  {
   "cell_type": "code",
   "execution_count": null,
   "metadata": {},
   "outputs": [],
   "source": [
    "# Dar o ORB nelas\n",
    "orb = cv.ORB_create()\n",
    "kp1, des1 = orb.detectAndCompute(img1, None)\n",
    "kp2, des2 = orb.detectAndCompute(img2, None)\n",
    "\n",
    "# Dar o Brute Force Matcher e os descriptors bf.Match(des1, des2)\n",
    "bf = cv.BFMatcher (cv.NORM_HAMMING, crossCheck = True)\n",
    "matches = bf.match(des1, des2)\n",
    "\n",
    "# Ordena-os por distância\n",
    "matches = sorted(matches, key = lambda x:x.distance)\n",
    "\n",
    "# Cria variáveis com uma das dimensões do tamanho do número de matches \n",
    "matches = matches[:int(len(matches)*90)]\n",
    "no_of_matches = len(matches)\n",
    "p1 = np.zeros((no_of_matches, 2))\n",
    "p2 = np.zeros((no_of_matches, 2))\n",
    "\n",
    "# Atribui o queryIdx dos kp1 dos matches da img1 à variável p1 e os trainIdx da img2 (à variável p2)\n",
    "for i in range(len(matches)):\n",
    "    p1[i, :] = kp1[matches[i].queryIdx].pt\n",
    "    p2[i, :] = kp2[matches[i].trainIdx].pt\n",
    "    \n",
    "# Cria máscara, homografia e através delas cria uma imagem transformada da img1 com o alinhamento da img2\n",
    "homography, mask = cv.findHomography(p1, p2, cv.RANSAC)\n",
    "transformed_img = cv.warpPerspective(img1, homography, (706,705))\n",
    "cv.imwrite('imagem_transformada.jpg', transformed_img)\n",
    "                                     \n",
    "# Desenha os 10 primeiros matches\n",
    "img3 = cv.drawMatches(img1,kp1,img2,kp2,matches[:10],None,flags=cv.DrawMatchesFlags_NOT_DRAW_SINGLE_POINTS)\n",
    "plt.imshow(img3),plt.show()\n",
    "img3 = Image.fromarray(img3)\n",
    "img3.save('img3.png', format = 'PNG')"
   ]
  },
  {
   "cell_type": "raw",
   "metadata": {},
   "source": [
    "Na linha \"homography, mask = cv.findHomography(p1, p2, cv.RANSAC)\" obtenho o erro:\n",
    "\n",
    "error: OpenCV(4.5.5) D:\\a\\opencv-python\\opencv-python\\opencv\\modules\\calib3d\\src\\fundam.cpp:385: error: (-28:Unknown error code -28) The input arrays should have at least 4 corresponding point sets to calculate Homography in function 'cv::findHomography'"
   ]
  },
  {
   "cell_type": "markdown",
   "metadata": {},
   "source": [
    "![imagem3](C:\\Users\\Samara\\Documents\\Python Scripts\\new_codes\\img3.png)"
   ]
  },
  {
   "cell_type": "markdown",
   "metadata": {},
   "source": [
    "Após alinhadas as imagens, saberíamos que os pixelsets de uma correspondem à mesma região de pintura dos pixelsets da outra. Assim, poderíamos extrair informações de cada pixelset das duas imagens e tratá-las conjuntamente."
   ]
  },
  {
   "cell_type": "code",
   "execution_count": null,
   "metadata": {},
   "outputs": [],
   "source": []
  }
 ],
 "metadata": {
  "kernelspec": {
   "display_name": "Python 3",
   "language": "python",
   "name": "python3"
  },
  "language_info": {
   "codemirror_mode": {
    "name": "ipython",
    "version": 3
   },
   "file_extension": ".py",
   "mimetype": "text/x-python",
   "name": "python",
   "nbconvert_exporter": "python",
   "pygments_lexer": "ipython3",
   "version": "3.8.8"
  }
 },
 "nbformat": 4,
 "nbformat_minor": 4
}
